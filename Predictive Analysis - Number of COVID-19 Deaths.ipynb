{
 "cells": [
  {
   "cell_type": "code",
   "execution_count": 1,
   "metadata": {},
   "outputs": [],
   "source": [
    "import pandas as pd\n",
    "import seaborn as sns\n",
    "import numpy as np"
   ]
  },
  {
   "cell_type": "code",
   "execution_count": 2,
   "metadata": {},
   "outputs": [],
   "source": [
    "data = pd.read_csv('COVID-19_Outcomes_by_Testing_Cohorts__Cases__Hospitalizations__and_Deaths.csv')"
   ]
  },
  {
   "cell_type": "code",
   "execution_count": 3,
   "metadata": {},
   "outputs": [
    {
     "data": {
      "text/html": [
       "<div>\n",
       "<style scoped>\n",
       "    .dataframe tbody tr th:only-of-type {\n",
       "        vertical-align: middle;\n",
       "    }\n",
       "\n",
       "    .dataframe tbody tr th {\n",
       "        vertical-align: top;\n",
       "    }\n",
       "\n",
       "    .dataframe thead th {\n",
       "        text-align: right;\n",
       "    }\n",
       "</style>\n",
       "<table border=\"1\" class=\"dataframe\">\n",
       "  <thead>\n",
       "    <tr style=\"text-align: right;\">\n",
       "      <th></th>\n",
       "      <th>extract_date</th>\n",
       "      <th>specimen_date</th>\n",
       "      <th>Number_tested</th>\n",
       "      <th>Number_confirmed</th>\n",
       "      <th>Number_hospitalized</th>\n",
       "      <th>Number_deaths</th>\n",
       "    </tr>\n",
       "  </thead>\n",
       "  <tbody>\n",
       "    <tr>\n",
       "      <th>0</th>\n",
       "      <td>04/29/2020</td>\n",
       "      <td>04/17/2020</td>\n",
       "      <td>9979</td>\n",
       "      <td>3386</td>\n",
       "      <td>527</td>\n",
       "      <td>96</td>\n",
       "    </tr>\n",
       "    <tr>\n",
       "      <th>1</th>\n",
       "      <td>04/29/2020</td>\n",
       "      <td>02/08/2020</td>\n",
       "      <td>1</td>\n",
       "      <td>0</td>\n",
       "      <td>0</td>\n",
       "      <td>0</td>\n",
       "    </tr>\n",
       "    <tr>\n",
       "      <th>2</th>\n",
       "      <td>04/29/2020</td>\n",
       "      <td>03/05/2020</td>\n",
       "      <td>63</td>\n",
       "      <td>5</td>\n",
       "      <td>3</td>\n",
       "      <td>1</td>\n",
       "    </tr>\n",
       "    <tr>\n",
       "      <th>3</th>\n",
       "      <td>04/29/2020</td>\n",
       "      <td>04/09/2020</td>\n",
       "      <td>9019</td>\n",
       "      <td>4803</td>\n",
       "      <td>1253</td>\n",
       "      <td>386</td>\n",
       "    </tr>\n",
       "    <tr>\n",
       "      <th>4</th>\n",
       "      <td>04/29/2020</td>\n",
       "      <td>04/03/2020</td>\n",
       "      <td>9389</td>\n",
       "      <td>5523</td>\n",
       "      <td>1688</td>\n",
       "      <td>582</td>\n",
       "    </tr>\n",
       "  </tbody>\n",
       "</table>\n",
       "</div>"
      ],
      "text/plain": [
       "  extract_date specimen_date  Number_tested  Number_confirmed  \\\n",
       "0   04/29/2020    04/17/2020           9979              3386   \n",
       "1   04/29/2020    02/08/2020              1                 0   \n",
       "2   04/29/2020    03/05/2020             63                 5   \n",
       "3   04/29/2020    04/09/2020           9019              4803   \n",
       "4   04/29/2020    04/03/2020           9389              5523   \n",
       "\n",
       "   Number_hospitalized  Number_deaths  \n",
       "0                  527             96  \n",
       "1                    0              0  \n",
       "2                    3              1  \n",
       "3                 1253            386  \n",
       "4                 1688            582  "
      ]
     },
     "execution_count": 3,
     "metadata": {},
     "output_type": "execute_result"
    }
   ],
   "source": [
    "data.head()"
   ]
  },
  {
   "cell_type": "code",
   "execution_count": 5,
   "metadata": {},
   "outputs": [
    {
     "data": {
      "text/html": [
       "<div>\n",
       "<style scoped>\n",
       "    .dataframe tbody tr th:only-of-type {\n",
       "        vertical-align: middle;\n",
       "    }\n",
       "\n",
       "    .dataframe tbody tr th {\n",
       "        vertical-align: top;\n",
       "    }\n",
       "\n",
       "    .dataframe thead th {\n",
       "        text-align: right;\n",
       "    }\n",
       "</style>\n",
       "<table border=\"1\" class=\"dataframe\">\n",
       "  <thead>\n",
       "    <tr style=\"text-align: right;\">\n",
       "      <th></th>\n",
       "      <th>extract_date</th>\n",
       "      <th>specimen_date</th>\n",
       "      <th>Number_tested</th>\n",
       "      <th>Number_confirmed</th>\n",
       "      <th>Number_hospitalized</th>\n",
       "      <th>Number_deaths</th>\n",
       "    </tr>\n",
       "  </thead>\n",
       "  <tbody>\n",
       "    <tr>\n",
       "      <th>44434</th>\n",
       "      <td>12/24/2020</td>\n",
       "      <td>07/16/2020</td>\n",
       "      <td>18556</td>\n",
       "      <td>641</td>\n",
       "      <td>44</td>\n",
       "      <td>9</td>\n",
       "    </tr>\n",
       "    <tr>\n",
       "      <th>44435</th>\n",
       "      <td>12/24/2020</td>\n",
       "      <td>10/16/2020</td>\n",
       "      <td>15812</td>\n",
       "      <td>570</td>\n",
       "      <td>45</td>\n",
       "      <td>0</td>\n",
       "    </tr>\n",
       "    <tr>\n",
       "      <th>44436</th>\n",
       "      <td>12/24/2020</td>\n",
       "      <td>06/18/2020</td>\n",
       "      <td>17785</td>\n",
       "      <td>605</td>\n",
       "      <td>76</td>\n",
       "      <td>5</td>\n",
       "    </tr>\n",
       "    <tr>\n",
       "      <th>44437</th>\n",
       "      <td>12/24/2020</td>\n",
       "      <td>07/08/2020</td>\n",
       "      <td>19812</td>\n",
       "      <td>737</td>\n",
       "      <td>62</td>\n",
       "      <td>8</td>\n",
       "    </tr>\n",
       "    <tr>\n",
       "      <th>44438</th>\n",
       "      <td>12/24/2020</td>\n",
       "      <td>03/16/2020</td>\n",
       "      <td>4951</td>\n",
       "      <td>2342</td>\n",
       "      <td>503</td>\n",
       "      <td>140</td>\n",
       "    </tr>\n",
       "    <tr>\n",
       "      <th>44439</th>\n",
       "      <td>12/24/2020</td>\n",
       "      <td>12/14/2020</td>\n",
       "      <td>21700</td>\n",
       "      <td>1758</td>\n",
       "      <td>115</td>\n",
       "      <td>6</td>\n",
       "    </tr>\n",
       "    <tr>\n",
       "      <th>44440</th>\n",
       "      <td>12/24/2020</td>\n",
       "      <td>11/20/2020</td>\n",
       "      <td>21672</td>\n",
       "      <td>1202</td>\n",
       "      <td>91</td>\n",
       "      <td>7</td>\n",
       "    </tr>\n",
       "  </tbody>\n",
       "</table>\n",
       "</div>"
      ],
      "text/plain": [
       "      extract_date specimen_date  Number_tested  Number_confirmed  \\\n",
       "44434   12/24/2020    07/16/2020          18556               641   \n",
       "44435   12/24/2020    10/16/2020          15812               570   \n",
       "44436   12/24/2020    06/18/2020          17785               605   \n",
       "44437   12/24/2020    07/08/2020          19812               737   \n",
       "44438   12/24/2020    03/16/2020           4951              2342   \n",
       "44439   12/24/2020    12/14/2020          21700              1758   \n",
       "44440   12/24/2020    11/20/2020          21672              1202   \n",
       "\n",
       "       Number_hospitalized  Number_deaths  \n",
       "44434                   44              9  \n",
       "44435                   45              0  \n",
       "44436                   76              5  \n",
       "44437                   62              8  \n",
       "44438                  503            140  \n",
       "44439                  115              6  \n",
       "44440                   91              7  "
      ]
     },
     "execution_count": 5,
     "metadata": {},
     "output_type": "execute_result"
    }
   ],
   "source": [
    "data.tail(7)"
   ]
  },
  {
   "cell_type": "code",
   "execution_count": 6,
   "metadata": {},
   "outputs": [
    {
     "data": {
      "text/plain": [
       "Index(['extract_date', 'specimen_date', 'Number_tested', 'Number_confirmed',\n",
       "       'Number_hospitalized', 'Number_deaths'],\n",
       "      dtype='object')"
      ]
     },
     "execution_count": 6,
     "metadata": {},
     "output_type": "execute_result"
    }
   ],
   "source": [
    "data.columns"
   ]
  },
  {
   "cell_type": "code",
   "execution_count": 7,
   "metadata": {},
   "outputs": [
    {
     "data": {
      "text/plain": [
       "(44441, 6)"
      ]
     },
     "execution_count": 7,
     "metadata": {},
     "output_type": "execute_result"
    }
   ],
   "source": [
    "data.shape"
   ]
  },
  {
   "cell_type": "code",
   "execution_count": 8,
   "metadata": {},
   "outputs": [
    {
     "data": {
      "text/html": [
       "<div>\n",
       "<style scoped>\n",
       "    .dataframe tbody tr th:only-of-type {\n",
       "        vertical-align: middle;\n",
       "    }\n",
       "\n",
       "    .dataframe tbody tr th {\n",
       "        vertical-align: top;\n",
       "    }\n",
       "\n",
       "    .dataframe thead th {\n",
       "        text-align: right;\n",
       "    }\n",
       "</style>\n",
       "<table border=\"1\" class=\"dataframe\">\n",
       "  <thead>\n",
       "    <tr style=\"text-align: right;\">\n",
       "      <th></th>\n",
       "      <th>Number_tested</th>\n",
       "      <th>Number_confirmed</th>\n",
       "      <th>Number_hospitalized</th>\n",
       "      <th>Number_deaths</th>\n",
       "    </tr>\n",
       "  </thead>\n",
       "  <tbody>\n",
       "    <tr>\n",
       "      <th>count</th>\n",
       "      <td>44441.000000</td>\n",
       "      <td>44441.000000</td>\n",
       "      <td>44441.000000</td>\n",
       "      <td>44441.000000</td>\n",
       "    </tr>\n",
       "    <tr>\n",
       "      <th>mean</th>\n",
       "      <td>10264.597579</td>\n",
       "      <td>1292.182894</td>\n",
       "      <td>312.771810</td>\n",
       "      <td>103.588736</td>\n",
       "    </tr>\n",
       "    <tr>\n",
       "      <th>std</th>\n",
       "      <td>6176.353680</td>\n",
       "      <td>1632.767311</td>\n",
       "      <td>516.012254</td>\n",
       "      <td>195.873226</td>\n",
       "    </tr>\n",
       "    <tr>\n",
       "      <th>min</th>\n",
       "      <td>1.000000</td>\n",
       "      <td>0.000000</td>\n",
       "      <td>0.000000</td>\n",
       "      <td>0.000000</td>\n",
       "    </tr>\n",
       "    <tr>\n",
       "      <th>25%</th>\n",
       "      <td>6255.000000</td>\n",
       "      <td>229.000000</td>\n",
       "      <td>25.000000</td>\n",
       "      <td>2.000000</td>\n",
       "    </tr>\n",
       "    <tr>\n",
       "      <th>50%</th>\n",
       "      <td>9625.000000</td>\n",
       "      <td>454.000000</td>\n",
       "      <td>50.000000</td>\n",
       "      <td>6.000000</td>\n",
       "    </tr>\n",
       "    <tr>\n",
       "      <th>75%</th>\n",
       "      <td>15698.000000</td>\n",
       "      <td>1899.000000</td>\n",
       "      <td>301.000000</td>\n",
       "      <td>88.000000</td>\n",
       "    </tr>\n",
       "    <tr>\n",
       "      <th>max</th>\n",
       "      <td>24172.000000</td>\n",
       "      <td>6502.000000</td>\n",
       "      <td>2016.000000</td>\n",
       "      <td>853.000000</td>\n",
       "    </tr>\n",
       "  </tbody>\n",
       "</table>\n",
       "</div>"
      ],
      "text/plain": [
       "       Number_tested  Number_confirmed  Number_hospitalized  Number_deaths\n",
       "count   44441.000000      44441.000000         44441.000000   44441.000000\n",
       "mean    10264.597579       1292.182894           312.771810     103.588736\n",
       "std      6176.353680       1632.767311           516.012254     195.873226\n",
       "min         1.000000          0.000000             0.000000       0.000000\n",
       "25%      6255.000000        229.000000            25.000000       2.000000\n",
       "50%      9625.000000        454.000000            50.000000       6.000000\n",
       "75%     15698.000000       1899.000000           301.000000      88.000000\n",
       "max     24172.000000       6502.000000          2016.000000     853.000000"
      ]
     },
     "execution_count": 8,
     "metadata": {},
     "output_type": "execute_result"
    }
   ],
   "source": [
    "data.describe()"
   ]
  },
  {
   "cell_type": "code",
   "execution_count": 9,
   "metadata": {},
   "outputs": [
    {
     "data": {
      "text/plain": [
       "extract_date           0\n",
       "specimen_date          0\n",
       "Number_tested          0\n",
       "Number_confirmed       0\n",
       "Number_hospitalized    0\n",
       "Number_deaths          0\n",
       "dtype: int64"
      ]
     },
     "execution_count": 9,
     "metadata": {},
     "output_type": "execute_result"
    }
   ],
   "source": [
    "data.isnull().sum()"
   ]
  },
  {
   "cell_type": "code",
   "execution_count": 10,
   "metadata": {},
   "outputs": [
    {
     "data": {
      "text/plain": [
       "<seaborn.axisgrid.FacetGrid at 0x1ebe8106ef0>"
      ]
     },
     "execution_count": 10,
     "metadata": {},
     "output_type": "execute_result"
    },
    {
     "data": {
      "image/png": "[encoded data removed]",
      "text/plain": [
       "<Figure size 360x360 with 1 Axes>"
      ]
     },
     "metadata": {
      "needs_background": "light"
     },
     "output_type": "display_data"
    }
   ],
   "source": [
    "sns.relplot(x='Number_tested', y='Number_confirmed', data=data)"
   ]
  },
  {
   "cell_type": "code",
   "execution_count": 11,
   "metadata": {},
   "outputs": [],
   "source": [
    "from sklearn.linear_model import LinearRegression\n",
    "from sklearn.model_selection import train_test_split"
   ]
  },
  {
   "cell_type": "code",
   "execution_count": 18,
   "metadata": {},
   "outputs": [],
   "source": [
    "train = data.drop(['Number_hospitalized', 'Number_deaths', 'specimen_date', 'extract_date'], axis=1)\n",
    "test = data['Number_deaths']"
   ]
  },
  {
   "cell_type": "code",
   "execution_count": 19,
   "metadata": {},
   "outputs": [],
   "source": [
    "X_train, X_test, y_train, y_test = train_test_split(train, test, test_size= 0.3, random_state=2)"
   ]
  },
  {
   "cell_type": "code",
   "execution_count": 20,
   "metadata": {},
   "outputs": [],
   "source": [
    "regr = LinearRegression()"
   ]
  },
  {
   "cell_type": "code",
   "execution_count": 21,
   "metadata": {},
   "outputs": [
    {
     "data": {
      "text/plain": [
       "LinearRegression(copy_X=True, fit_intercept=True, n_jobs=1, normalize=False)"
      ]
     },
     "execution_count": 21,
     "metadata": {},
     "output_type": "execute_result"
    }
   ],
   "source": [
    "regr.fit(X_train, y_train)"
   ]
  },
  {
   "cell_type": "code",
   "execution_count": 22,
   "metadata": {},
   "outputs": [],
   "source": [
    "pred = regr.predict(X_test)"
   ]
  },
  {
   "cell_type": "code",
   "execution_count": 23,
   "metadata": {},
   "outputs": [
    {
     "data": {
      "text/plain": [
       "array([-11.61380345, -22.33540196, 647.93534253, ...,  -4.28675798,\n",
       "       400.04367058,  -7.31111861])"
      ]
     },
     "execution_count": 23,
     "metadata": {},
     "output_type": "execute_result"
    }
   ],
   "source": [
    "pred"
   ]
  },
  {
   "cell_type": "code",
   "execution_count": 24,
   "metadata": {},
   "outputs": [
    {
     "data": {
      "text/plain": [
       "0.8946736861490011"
      ]
     },
     "execution_count": 24,
     "metadata": {},
     "output_type": "execute_result"
    }
   ],
   "source": [
    "regr.score(X_test, y_test)"
   ]
  },
  {
   "cell_type": "code",
   "execution_count": null,
   "metadata": {
    "scrolled": true
   },
   "outputs": [],
   "source": []
  },
  {
   "cell_type": "code",
   "execution_count": null,
   "metadata": {},
   "outputs": [],
   "source": []
  }
 ],
 "metadata": {
  "kernelspec": {
   "display_name": "Python 3",
   "language": "python",
   "name": "python3"
  },
  "language_info": {
   "codemirror_mode": {
    "name": "ipython",
    "version": 3
   },
   "file_extension": ".py",
   "mimetype": "text/x-python",
   "name": "python",
   "nbconvert_exporter": "python",
   "pygments_lexer": "ipython3",
   "version": "3.7.0"
  }
 },
 "nbformat": 4,
 "nbformat_minor": 2
}
